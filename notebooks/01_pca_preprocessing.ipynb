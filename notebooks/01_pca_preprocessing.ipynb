{
 "cells": [
  {
   "cell_type": "markdown",
   "id": "defb9090",
   "metadata": {},
   "source": [
    "# Notebook 01: PCA Preprocessing\n",
    "This notebook loads and preprocesses the dataset."
   ]
  },
  {
   "cell_type": "code",
   "execution_count": null,
   "id": "1aeb450f",
   "metadata": {},
   "outputs": [],
   "source": [
    "import pandas as pd\n",
    "from sklearn.preprocessing import LabelEncoder, StandardScaler"
   ]
  },
  {
   "cell_type": "code",
   "execution_count": null,
   "id": "c6278d72",
   "metadata": {},
   "outputs": [],
   "source": [
    "# Load dataset\n",
    "file_path = 'your_data.csv'\n",
    "df = pd.read_csv(file_path)\n",
    "df.head()"
   ]
  },
  {
   "cell_type": "code",
   "execution_count": null,
   "id": "7a4c3718",
   "metadata": {},
   "outputs": [],
   "source": [
    "# Drop rows with missing values\n",
    "key_cols = ['Age', 'Gender', 'Location', 'Education', 'Diploma',\n",
    "            'Training', 'InternetSpending', 'Satisfaction', 'Job_Search']\n",
    "df = df.dropna(subset=key_cols)"
   ]
  },
  {
   "cell_type": "code",
   "execution_count": null,
   "id": "19495377",
   "metadata": {},
   "outputs": [],
   "source": [
    "# Encode categorical columns\n",
    "le = LabelEncoder()\n",
    "for col in ['Gender', 'Location', 'Education', 'Diploma', 'Training', 'Satisfaction', 'Job_Search']:\n",
    "    df[col] = le.fit_transform(df[col])"
   ]
  },
  {
   "cell_type": "code",
   "execution_count": null,
   "id": "97c59f39",
   "metadata": {},
   "outputs": [],
   "source": [
    "# Standardise numerical features\n",
    "scaler = StandardScaler()\n",
    "df[['Age', 'InternetSpending']] = scaler.fit_transform(df[['Age', 'InternetSpending']])\n",
    "df.head()"
   ]
  }
 ],
 "metadata": {},
 "nbformat": 4,
 "nbformat_minor": 5
}
