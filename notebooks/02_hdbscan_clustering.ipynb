{
 "cells": [
  {
   "cell_type": "markdown",
   "id": "85a920ab",
   "metadata": {},
   "source": [
    "# Notebook 02: HDBSCAN Clustering"
   ]
  },
  {
   "cell_type": "code",
   "execution_count": null,
   "id": "515feb4b",
   "metadata": {},
   "outputs": [],
   "source": [
    "import pandas as pd\n",
    "from sklearn.decomposition import PCA\n",
    "import hdbscan\n",
    "import gower"
   ]
  },
  {
   "cell_type": "code",
   "execution_count": null,
   "id": "3daab6fa",
   "metadata": {},
   "outputs": [],
   "source": [
    "# Perform PCA\n",
    "pca = PCA(n_components=5)\n",
    "pca_features = pca.fit_transform(df)"
   ]
  },
  {
   "cell_type": "code",
   "execution_count": null,
   "id": "d4950d0d",
   "metadata": {},
   "outputs": [],
   "source": [
    "# Compute Gower distance matrix\n",
    "gower_dist = gower.gower_matrix(df)"
   ]
  },
  {
   "cell_type": "code",
   "execution_count": null,
   "id": "a695d754",
   "metadata": {},
   "outputs": [],
   "source": [
    "# Run HDBSCAN\n",
    "clusterer = hdbscan.HDBSCAN(metric='precomputed', min_cluster_size=30)\n",
    "labels = clusterer.fit_predict(gower_dist)\n",
    "df['Cluster'] = labels\n",
    "df['Cluster'].value_counts()"
   ]
  }
 ],
 "metadata": {},
 "nbformat": 4,
 "nbformat_minor": 5
}
