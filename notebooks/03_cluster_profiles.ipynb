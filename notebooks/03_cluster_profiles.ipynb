{
 "cells": [
  {
   "cell_type": "markdown",
   "id": "7447d5de",
   "metadata": {},
   "source": [
    "# Notebook 03: Cluster Profiles"
   ]
  },
  {
   "cell_type": "code",
   "execution_count": null,
   "id": "636b1934",
   "metadata": {},
   "outputs": [],
   "source": [
    "import pandas as pd\n",
    "import seaborn as sns\n",
    "import matplotlib.pyplot as plt"
   ]
  },
  {
   "cell_type": "code",
   "execution_count": null,
   "id": "9152b04b",
   "metadata": {},
   "outputs": [],
   "source": [
    "# Summarise clusters\n",
    "summary = df.groupby('Cluster').agg({\n",
    "    'Age': 'mean',\n",
    "    'Gender': lambda x: x.mode()[0] if not x.empty else 'Unknown',\n",
    "    'Location': lambda x: x.mode()[0] if not x.empty else 'Unknown',\n",
    "    'InternetSpending': 'mean',\n",
    "    'Education': lambda x: x.mode()[0] if not x.empty else 'Unknown',\n",
    "    'Satisfaction': lambda x: x.mode()[0] if not x.empty else 'Unknown',\n",
    "    'Job_Search': lambda x: x.mode()[0] if not x.empty else 'Unknown',\n",
    "})\n",
    "summary"
   ]
  },
  {
   "cell_type": "code",
   "execution_count": null,
   "id": "d76524a7",
   "metadata": {},
   "outputs": [],
   "source": [
    "# Plot cluster distribution\n",
    "sns.countplot(data=df, x='Cluster')\n",
    "plt.title('Cluster Sizes')\n",
    "plt.show()"
   ]
  }
 ],
 "metadata": {},
 "nbformat": 4,
 "nbformat_minor": 5
}
